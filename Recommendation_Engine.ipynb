{
  "nbformat": 4,
  "nbformat_minor": 0,
  "metadata": {
    "colab": {
      "provenance": [],
      "authorship_tag": "ABX9TyPbhaE4aT40Bu9EU3zazxdc",
      "include_colab_link": true
    },
    "kernelspec": {
      "name": "python3",
      "display_name": "Python 3"
    },
    "language_info": {
      "name": "python"
    }
  },
  "cells": [
    {
      "cell_type": "markdown",
      "metadata": {
        "id": "view-in-github",
        "colab_type": "text"
      },
      "source": [
        "<a href=\"https://colab.research.google.com/github/PiaDhall04/Recommendation-Engine/blob/main/Recommendation_Engine.ipynb\" target=\"_parent\"><img src=\"https://colab.research.google.com/assets/colab-badge.svg\" alt=\"Open In Colab\"/></a>"
      ]
    },
    {
      "cell_type": "code",
      "execution_count": 1,
      "metadata": {
        "colab": {
          "base_uri": "https://localhost:8080/"
        },
        "id": "dsLvg1W038lx",
        "outputId": "6c482eaf-aa81-4107-fcaf-3be649be8b73"
      },
      "outputs": [
        {
          "output_type": "stream",
          "name": "stdout",
          "text": [
            "Top 3 recommended roles for 'Data Scientist':\n",
            "Data Analyst (Similarity Score: 0.60)\n",
            "Machine Learning Engineer (Similarity Score: 0.33)\n",
            "Business Analyst (Similarity Score: 0.33)\n"
          ]
        }
      ],
      "source": [
        "import pandas as pd\n",
        "\n",
        "# Sample dataset of job roles and their required skills\n",
        "data = {\n",
        "    'Job Role': [\n",
        "        'Data Scientist',\n",
        "        'Machine Learning Engineer',\n",
        "        'Data Analyst',\n",
        "        'Data Engineer',\n",
        "        'Business Analyst',\n",
        "        'Statistician',\n",
        "        'AI Researcher',\n",
        "        'Data Architect'\n",
        "    ],\n",
        "    'Skills': [\n",
        "        {'Python', 'Statistics', 'Machine Learning', 'Data Visualization'},\n",
        "        {'Python', 'Machine Learning', 'Deep Learning', 'Data Engineering'},\n",
        "        {'Python', 'Statistics', 'Data Visualization', 'SQL'},\n",
        "        {'Python', 'Data Engineering', 'SQL', 'ETL'},\n",
        "        {'SQL', 'Data Visualization', 'Business Intelligence', 'Statistics'},\n",
        "        {'R', 'Statistics', 'Data Analysis', 'Mathematics'},\n",
        "        {'Python', 'Machine Learning', 'Deep Learning', 'Research'},\n",
        "        {'SQL', 'Data Engineering', 'Cloud Computing', 'Architecture'}\n",
        "    ]\n",
        "}\n",
        "\n",
        "# Create a DataFrame\n",
        "df = pd.DataFrame(data)\n",
        "\n",
        "def jaccard_similarity(set1, set2):\n",
        "    intersection = len(set1.intersection(set2))\n",
        "    union = len(set1.union(set2))\n",
        "    return intersection / union if union != 0 else 0\n",
        "\n",
        "def get_recommendations(input_role):\n",
        "    # Find the skills of the input role\n",
        "    input_skills = df.loc[df['Job Role'] == input_role, 'Skills'].values[0]\n",
        "\n",
        "    # Calculate similarity scores\n",
        "    similarity_scores = []\n",
        "    for index, row in df.iterrows():\n",
        "        if row['Job Role'] != input_role:  # Avoid comparing the role with itself\n",
        "            score = jaccard_similarity(input_skills, row['Skills'])\n",
        "            similarity_scores.append((row['Job Role'], score))\n",
        "\n",
        "    # Sort by similarity score in descending order and get top 3\n",
        "    similarity_scores.sort(key=lambda x: x[1], reverse=True)\n",
        "    top_recommendations = similarity_scores[:3]\n",
        "\n",
        "    return top_recommendations\n",
        "\n",
        "# Example usage\n",
        "input_role = 'Data Scientist'\n",
        "recommendations = get_recommendations(input_role)\n",
        "print(f\"Top 3 recommended roles for '{input_role}':\")\n",
        "for role, score in recommendations:\n",
        "    print(f\"{role} (Similarity Score: {score:.2f})\")"
      ]
    }
  ]
}